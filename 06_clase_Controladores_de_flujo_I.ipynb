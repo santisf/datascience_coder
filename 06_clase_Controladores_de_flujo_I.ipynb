{
  "nbformat": 4,
  "nbformat_minor": 0,
  "metadata": {
    "colab": {
      "provenance": [],
      "collapsed_sections": [
        "_Cna9Uz5JbfF",
        "X-3tcCsMAUA5",
        "QSnzmtFNLPC5",
        "pPH7YQiUsKl5",
        "hWiDwt51LVmx"
      ],
      "include_colab_link": true
    },
    "kernelspec": {
      "name": "python3",
      "display_name": "Python 3"
    },
    "language_info": {
      "name": "python"
    }
  },
  "cells": [
    {
      "cell_type": "markdown",
      "metadata": {
        "id": "view-in-github",
        "colab_type": "text"
      },
      "source": [
        "<a href=\"https://colab.research.google.com/github/santisf/datascience_coder/blob/main/06_clase_Controladores_de_flujo_I.ipynb\" target=\"_parent\"><img src=\"https://colab.research.google.com/assets/colab-badge.svg\" alt=\"Open In Colab\"/></a>"
      ]
    },
    {
      "cell_type": "markdown",
      "source": [
        "# Condicionales"
      ],
      "metadata": {
        "id": "JKdTuk9a_pbZ"
      }
    },
    {
      "cell_type": "markdown",
      "source": [
        "## Inicio - Condicionales"
      ],
      "metadata": {
        "id": "mK_E3VTrO2Ju"
      }
    },
    {
      "cell_type": "markdown",
      "source": [
        "Ejecutar el código y analizar los resultados"
      ],
      "metadata": {
        "id": "vX_AH2zcEIdY"
      }
    },
    {
      "cell_type": "code",
      "source": [
        "# Podría ingresarse con un Input\n",
        "edad = 16\n",
        "\n",
        "if edad >= 18:\n",
        "    print(\"Es mayor de edad\")\n",
        "\n",
        "print(\"Fin del programa\")"
      ],
      "metadata": {
        "id": "cikrWahCO4uu",
        "colab": {
          "base_uri": "https://localhost:8080/"
        },
        "outputId": "779bb6c6-7127-4c56-fc49-fb8b1e218a7e"
      },
      "execution_count": null,
      "outputs": [
        {
          "output_type": "stream",
          "name": "stdout",
          "text": [
            "Fin del programa\n"
          ]
        }
      ]
    },
    {
      "cell_type": "code",
      "source": [
        "# Podría ingresarse con un Input\n",
        "edad = 21\n",
        "\n",
        "if edad >= 18:\n",
        "    print(\"Es mayor de edad\")\n",
        "\n",
        "print(\"Fin del programa\")"
      ],
      "metadata": {
        "id": "1vQ6X78lEBqw",
        "colab": {
          "base_uri": "https://localhost:8080/"
        },
        "outputId": "8d448324-ac11-4a1f-b151-cabd1a2a2c47"
      },
      "execution_count": null,
      "outputs": [
        {
          "output_type": "stream",
          "name": "stdout",
          "text": [
            "Es mayor de edad\n",
            "Más líneas\n",
            "Fin del programa\n"
          ]
        }
      ]
    },
    {
      "cell_type": "code",
      "source": [
        "if edad:\n",
        "    print(\"Edad\")"
      ],
      "metadata": {
        "colab": {
          "base_uri": "https://localhost:8080/"
        },
        "id": "taksAeCnW4Ue",
        "outputId": "531f68be-5745-40ed-bc0d-925839ee3fe3"
      },
      "execution_count": null,
      "outputs": [
        {
          "output_type": "stream",
          "name": "stdout",
          "text": [
            "Edad\n"
          ]
        }
      ]
    },
    {
      "cell_type": "markdown",
      "source": [
        "## if"
      ],
      "metadata": {
        "id": "_Cna9Uz5JbfF"
      }
    },
    {
      "cell_type": "code",
      "source": [
        "if True:\n",
        "    print('Se cumple la condición')"
      ],
      "metadata": {
        "id": "avlbLwRi_nol",
        "colab": {
          "base_uri": "https://localhost:8080/"
        },
        "outputId": "748742a4-315a-4fc9-9384-c63f6adb5d18"
      },
      "execution_count": null,
      "outputs": [
        {
          "output_type": "stream",
          "name": "stdout",
          "text": [
            "Se cumple la condición\n"
          ]
        }
      ]
    },
    {
      "cell_type": "code",
      "source": [
        "edad = 100\n",
        "\n",
        "if edad >= 18:\n",
        "    print('Es un adulto')\n",
        "    print(\"Más líneas\")\n",
        "\n",
        "print(\"Acá sigue el código\")"
      ],
      "metadata": {
        "id": "4GjcojtKAMXz",
        "colab": {
          "base_uri": "https://localhost:8080/"
        },
        "outputId": "b6127df1-0924-4fd5-ddc1-c2a6ba253f98"
      },
      "execution_count": null,
      "outputs": [
        {
          "output_type": "stream",
          "name": "stdout",
          "text": [
            "Es un adulto\n",
            "Más líneas\n",
            "Acá sigue el código\n"
          ]
        }
      ]
    },
    {
      "cell_type": "markdown",
      "source": [
        "### Indentación"
      ],
      "metadata": {
        "id": "UL8tbtstE07h"
      }
    },
    {
      "cell_type": "code",
      "source": [
        "edad =  50\n",
        "if edad >= 18:\n",
        "print('Es un adulto')\n",
        "print(\"Más líneas\")\n",
        "\n",
        "print(\"Acá sigue el código\")"
      ],
      "metadata": {
        "id": "SEtKB8VPFdFN",
        "colab": {
          "base_uri": "https://localhost:8080/",
          "height": 106
        },
        "outputId": "0aab142a-25be-4203-ec99-07eef6203102"
      },
      "execution_count": null,
      "outputs": [
        {
          "output_type": "error",
          "ename": "IndentationError",
          "evalue": "expected an indented block after 'if' statement on line 2 (ipython-input-2085545529.py, line 3)",
          "traceback": [
            "\u001b[0;36m  File \u001b[0;32m\"/tmp/ipython-input-2085545529.py\"\u001b[0;36m, line \u001b[0;32m3\u001b[0m\n\u001b[0;31m    print('Es un adulto')\u001b[0m\n\u001b[0m    ^\u001b[0m\n\u001b[0;31mIndentationError\u001b[0m\u001b[0;31m:\u001b[0m expected an indented block after 'if' statement on line 2\n"
          ]
        }
      ]
    },
    {
      "cell_type": "code",
      "source": [
        "a = 25\n",
        "b = 50\n",
        "if b > a:\n",
        " print(\"b es más grande que a\")\n",
        " print(\"b es más grande que a\")\n",
        "\n",
        "if b > a:\n",
        "                      print(\"b es más grande que a\")\n",
        "\n",
        "print(\"El código continúa\")"
      ],
      "metadata": {
        "id": "4hFXTOjrE3LP",
        "colab": {
          "base_uri": "https://localhost:8080/"
        },
        "outputId": "bc018909-07a9-497e-cd4c-f33f80ace982"
      },
      "execution_count": null,
      "outputs": [
        {
          "output_type": "stream",
          "name": "stdout",
          "text": [
            "b es más grande que a\n",
            "b es más grande que a\n",
            "b es más grande que a\n",
            "El código continúa\n"
          ]
        }
      ]
    },
    {
      "cell_type": "code",
      "source": [
        "lista = []\n",
        "if not lista:\n",
        "    print(\"El carrito está vacío\")"
      ],
      "metadata": {
        "id": "WCNB1i45Pw3C",
        "colab": {
          "base_uri": "https://localhost:8080/"
        },
        "outputId": "7492cbb5-5179-495e-c784-19b65f1d869b"
      },
      "execution_count": null,
      "outputs": [
        {
          "output_type": "stream",
          "name": "stdout",
          "text": [
            "El carrito está vacío\n"
          ]
        }
      ]
    },
    {
      "cell_type": "markdown",
      "source": [
        "### Ejemplos de condiciones lógicas"
      ],
      "metadata": {
        "id": "I8c2qV-sFJ5y"
      }
    },
    {
      "cell_type": "code",
      "source": [
        "a = 195\n",
        "b = 30\n",
        "c = 400\n",
        "if a > b and c > a:\n",
        "    print(\"Ambas condiciones son verdaderas\")"
      ],
      "metadata": {
        "id": "q7hZF1XmFLxK",
        "colab": {
          "base_uri": "https://localhost:8080/"
        },
        "outputId": "257dca70-884b-4c5f-9146-b6aef43eb0d1"
      },
      "execution_count": null,
      "outputs": [
        {
          "output_type": "stream",
          "name": "stdout",
          "text": [
            "Ambas condiciones son verdaderas\n"
          ]
        }
      ]
    },
    {
      "cell_type": "code",
      "source": [
        "a = 195\n",
        "b = 50\n",
        "c = 500\n",
        "if a > b or a > c:\n",
        "    print(\"Al menos una de las condiciones es verdadera\")"
      ],
      "metadata": {
        "id": "3m8fHdpMFVsG",
        "colab": {
          "base_uri": "https://localhost:8080/"
        },
        "outputId": "f54cf0b9-489f-4363-cc36-4fc59b709208"
      },
      "execution_count": null,
      "outputs": [
        {
          "output_type": "stream",
          "name": "stdout",
          "text": [
            "Al menos una de las condiciones es verdadera\n"
          ]
        }
      ]
    },
    {
      "cell_type": "markdown",
      "source": [
        "### IF en una sóla línea\n",
        "Tenemos más ejemplos luego de conocer el \"else\""
      ],
      "metadata": {
        "id": "VhBHQ72ao7me"
      }
    },
    {
      "cell_type": "code",
      "source": [
        "a = 150\n",
        "b = 35\n",
        "if a > b: print(\"a es mayor que b\")"
      ],
      "metadata": {
        "id": "4lLkn4vapMi-",
        "colab": {
          "base_uri": "https://localhost:8080/"
        },
        "outputId": "2c55d941-fffc-4389-c43f-b8990d104e79"
      },
      "execution_count": null,
      "outputs": [
        {
          "output_type": "stream",
          "name": "stdout",
          "text": [
            "a es mayor que b\n"
          ]
        }
      ]
    },
    {
      "cell_type": "markdown",
      "source": [
        "### **Ejercicios adicionales de IF**"
      ],
      "metadata": {
        "id": "X-3tcCsMAUA5"
      }
    },
    {
      "cell_type": "code",
      "source": [
        "# Corroborar si el usuario existe e imprimimos el resultado.\n",
        "\n",
        "lista_usuario = [\"Jose\", \"Joel\", \"Julia\", \"Itatí\", \"Lucía\", \"Luz\", \"Franco\", \"Gaspar\", \"Gabriel\", \"Germán\"]\n",
        "\n",
        "usuario = input(\"Ingrese nombre de usuario: \")"
      ],
      "metadata": {
        "id": "-IiuWtoILApw"
      },
      "execution_count": null,
      "outputs": []
    },
    {
      "cell_type": "markdown",
      "source": [
        "if anidado"
      ],
      "metadata": {
        "id": "MJXqVXk3NUK3"
      }
    },
    {
      "cell_type": "code",
      "source": [
        "# Chequeamos si el usuario existe e imprimimos el resultado,\n",
        "# Pero también chequeamos si la contraseña es correcta.\n",
        "\n",
        "lista_usuario = [\"Jose\", \"Joel\", \"Julia\", \"Itatí\", \"Lucía\", \"Luz\", \"Franco\", \"Gaspar\", \"Gabriel\", \"Germán\"]\n",
        "lista_contrasenia = [\"def\", \"qwerty\", \"fgh\", \"123\", \"rty\", \"las.;,l34tlkLGJAWG\", \"456\", \"asp\", \"Gabriel\", \"admin\"]\n",
        "\n",
        "usuario = input(\"Ingrese nombre de usuario: \")\n",
        "contrasenia = input(\"Ingrese contraseña: \")"
      ],
      "metadata": {
        "id": "yhwEsrRTNWZv"
      },
      "execution_count": null,
      "outputs": []
    },
    {
      "cell_type": "markdown",
      "source": [
        "## else"
      ],
      "metadata": {
        "id": "QSnzmtFNLPC5"
      }
    },
    {
      "cell_type": "code",
      "source": [
        "numero = 36\n",
        "\n",
        "if numero > 36:\n",
        "    print(\"El número es grande\")\n",
        "else:\n",
        "    print(\"El número es chico\")\n"
      ],
      "metadata": {
        "id": "4TvCm1K-Px03",
        "colab": {
          "base_uri": "https://localhost:8080/"
        },
        "outputId": "0bb7fda8-544e-4860-f4c4-a36e3ef6e7af"
      },
      "execution_count": null,
      "outputs": [
        {
          "output_type": "stream",
          "name": "stdout",
          "text": [
            "El número es chico\n"
          ]
        }
      ]
    },
    {
      "cell_type": "markdown",
      "source": [
        "### Múltiples IF"
      ],
      "metadata": {
        "id": "pPH7YQiUsKl5"
      }
    },
    {
      "cell_type": "code",
      "source": [
        "x = 35\n",
        "\n",
        "if x > 10:\n",
        "    print(\"por encima de diez,\")\n",
        "\n",
        "    if x > 20:\n",
        "        print(\"y también por encima de 20!\")\n",
        "    else:\n",
        "        print(\"pero no por encima de 20\")\n",
        "\n",
        "    if x < 50:\n",
        "        print(\"Es menor que 50\")\n",
        "\n",
        "print(\"Fin del programa\")"
      ],
      "metadata": {
        "id": "Qi_BCjRAP2lk",
        "colab": {
          "base_uri": "https://localhost:8080/"
        },
        "outputId": "daf36c52-1f63-403f-9c92-b996060b37a8"
      },
      "execution_count": null,
      "outputs": [
        {
          "output_type": "stream",
          "name": "stdout",
          "text": [
            "por encima de diez,\n",
            "y también por encima de 20!\n",
            "Es menor que 50\n",
            "Fin del programa\n"
          ]
        }
      ]
    },
    {
      "cell_type": "code",
      "source": [
        "x = 15\n",
        "if x > 10:\n",
        "    print(\"por encima de diez,\")\n",
        "    if x > 20:\n",
        "        print(\"y también por encima de 20!\")\n",
        "    else:\n",
        "        print(\"pero no por encima de 20\")"
      ],
      "metadata": {
        "id": "YCEpZyvxP-sV",
        "colab": {
          "base_uri": "https://localhost:8080/"
        },
        "outputId": "9c898bf9-99c9-4f01-c83e-447338a475ec"
      },
      "execution_count": null,
      "outputs": [
        {
          "output_type": "stream",
          "name": "stdout",
          "text": [
            "por encima de diez,\n",
            "pero no por encima de 20\n"
          ]
        }
      ]
    },
    {
      "cell_type": "code",
      "source": [
        "# Ejercicio\n",
        "# Chequeamos si el usuario existe e imprimimos el resultado.\n",
        "\n",
        "lista_usuario = [\"Jose\", \"Joel\", \"Julia\", \"Itatí\", \"Lucía\", \"Luz\", \"Franco\", \"Gaspar\", \"Gabriel\", \"Germán\"]\n",
        "\n",
        "usuario = input(\"Ingrese nombre de usuario: \")"
      ],
      "metadata": {
        "id": "myNM0TiGMlpC"
      },
      "execution_count": null,
      "outputs": []
    },
    {
      "cell_type": "markdown",
      "source": [
        "### If en una línea con else\n",
        "Otros ejemplos de implementación"
      ],
      "metadata": {
        "id": "Qw_w4Mq5PUhE"
      }
    },
    {
      "cell_type": "code",
      "source": [
        "# If en una sola linea – Ejemplo 1:\n",
        "a = 150\n",
        "b = 35\n",
        "if a > b: print(\"a es mayor que b\")\n",
        "\n",
        "# If en una sola linea – Ejemplo 2:\n",
        "a = 5\n",
        "b = 150\n",
        "print(\"A\") if a > b else print(\"B\")\n",
        "\n",
        "# If en una sola linea – Ejemplo 3:\n",
        "a = 150\n",
        "b = 330\n",
        "print(\"A\") if a > b else (print(\"=\") if a == b else print(\"B\"))\n",
        "\n",
        "# If en una sola linea – Ejemplo 4:\n",
        "a = 500\n",
        "b = 150\n",
        "valor = a if a > b else b\n",
        "print(valor)"
      ],
      "metadata": {
        "id": "eJfEEL9uPfrU",
        "colab": {
          "base_uri": "https://localhost:8080/"
        },
        "outputId": "d90d52c8-ced4-4956-ed95-fb9ba73a4453"
      },
      "execution_count": null,
      "outputs": [
        {
          "output_type": "stream",
          "name": "stdout",
          "text": [
            "a es mayor que b\n",
            "B\n",
            "B\n",
            "500\n"
          ]
        }
      ]
    },
    {
      "cell_type": "markdown",
      "source": [
        "## elif"
      ],
      "metadata": {
        "id": "hWiDwt51LVmx"
      }
    },
    {
      "cell_type": "code",
      "source": [
        "# Opción sin elif\n",
        "a = 2 + 3\n",
        "\n",
        "if a == 4:\n",
        "    print(\"A es igual a cuatro\")\n",
        "\n",
        "if a == 5:\n",
        "    print(\"A es igual a cinco\")\n",
        "\n",
        "if a == 6:\n",
        "    print(\"A es igual a seis\")\n",
        "\n",
        "if a != 4 and a != 5 and a != 6:\n",
        "    print(\"No se cumple la condición\")"
      ],
      "metadata": {
        "id": "qCTsfX0ZQIs4",
        "colab": {
          "base_uri": "https://localhost:8080/"
        },
        "outputId": "5b4f0b1f-fe58-483c-832e-e5eda5bd3f35"
      },
      "execution_count": null,
      "outputs": [
        {
          "output_type": "stream",
          "name": "stdout",
          "text": [
            "A es igual a cinco\n"
          ]
        }
      ]
    },
    {
      "cell_type": "code",
      "source": [
        "# Opción sin elif\n",
        "a = 2 + 3\n",
        "\n",
        "if a == 4:\n",
        "    print (\"A es igual a cuatro\")\n",
        "else:\n",
        "    if a == 5:\n",
        "        print (\"A es igual a cinco\")\n",
        "    else:\n",
        "        if a == 6:\n",
        "            print (\"A es igual a seis\")\n",
        "        else:\n",
        "            print (\"No se cumple la condición\")"
      ],
      "metadata": {
        "id": "CrPbHhKkolwI",
        "colab": {
          "base_uri": "https://localhost:8080/"
        },
        "outputId": "96efcde4-616e-4848-c7e3-a9ff0df49db9"
      },
      "execution_count": null,
      "outputs": [
        {
          "output_type": "stream",
          "name": "stdout",
          "text": [
            "A es igual a cinco\n"
          ]
        }
      ]
    },
    {
      "cell_type": "code",
      "source": [
        "# Opción con elif\n",
        "a = 6\n",
        "\n",
        "if a == 4:\n",
        "    print(\"A es igual a cuatro\")\n",
        "elif a == 5:\n",
        "    print(\"A es igual a cinco\")\n",
        "elif a == 6:\n",
        "    print(\"A es igual a seis\")\n",
        "else:\n",
        "    print(\"No se cumple la condición\")"
      ],
      "metadata": {
        "id": "8J3E6o_2M9bE",
        "colab": {
          "base_uri": "https://localhost:8080/"
        },
        "outputId": "ab8bf139-93f5-4d5f-d66c-775a9c435ce8"
      },
      "execution_count": null,
      "outputs": [
        {
          "output_type": "stream",
          "name": "stdout",
          "text": [
            "A es igual a seis\n"
          ]
        }
      ]
    }
  ]
}