{
  "nbformat": 4,
  "nbformat_minor": 0,
  "metadata": {
    "colab": {
      "provenance": [],
      "include_colab_link": true
    },
    "kernelspec": {
      "name": "python3",
      "display_name": "Python 3"
    },
    "language_info": {
      "name": "python"
    }
  },
  "cells": [
    {
      "cell_type": "markdown",
      "metadata": {
        "id": "view-in-github",
        "colab_type": "text"
      },
      "source": [
        "<a href=\"https://colab.research.google.com/github/santisf/datascience_coder/blob/main/clase_04_teorica.ipynb\" target=\"_parent\"><img src=\"https://colab.research.google.com/assets/colab-badge.svg\" alt=\"Open In Colab\"/></a>"
      ]
    },
    {
      "cell_type": "code",
      "execution_count": null,
      "metadata": {
        "id": "ng5zjnmCaFTP"
      },
      "outputs": [],
      "source": [
        "import pandas as pd\n",
        "import numpy as np"
      ]
    },
    {
      "cell_type": "markdown",
      "source": [
        "## Micro challenge\n",
        "\n",
        "Hacer un grafico de lineas para los siguientes:\n",
        "- EU_Sales\n",
        "- JP_Sales\n",
        "- Other_Sales\n",
        "\n",
        "*Teniendo en cuenta el axis Year_of_Release y por Developer*"
      ],
      "metadata": {
        "id": "Vx0g2optalHm"
      }
    },
    {
      "cell_type": "code",
      "source": [
        "url_video_games:str = r\"https://raw.githubusercontent.com/Andru-1987/csv_files_ds/refs/heads/main/Video_Games.csv\"\n",
        "video_games_df = pd.read_csv(url_video_games)\n"
      ],
      "metadata": {
        "id": "6EDiNbDyaWNi"
      },
      "execution_count": null,
      "outputs": []
    },
    {
      "cell_type": "markdown",
      "source": [
        "- *Completitud* : No nulls\n",
        "- *Exactitud* :\n",
        "    * No sean ambigüos, que sean correctos( no existan valores fuera de norma)\n",
        "    * ISO 8601 --> \"March 4, 2025\" -> %Y-%m-%d.\n",
        "    * Data duplicada() -->>> Jamas debe pasar."
      ],
      "metadata": {
        "id": "21ck2FiRbGhU"
      }
    },
    {
      "cell_type": "code",
      "source": [
        "video_games_df.info()"
      ],
      "metadata": {
        "id": "lypZizCta3jb"
      },
      "execution_count": null,
      "outputs": []
    },
    {
      "cell_type": "code",
      "source": [
        "video_games_df.isna().sum()"
      ],
      "metadata": {
        "id": "qUGqVvzCeAfN"
      },
      "execution_count": null,
      "outputs": []
    },
    {
      "cell_type": "markdown",
      "source": [
        "# Conteo de nulls"
      ],
      "metadata": {
        "id": "DZBxb-mehw3L"
      }
    },
    {
      "cell_type": "code",
      "source": [
        "def mostrar_perc_nulls(df:pd.DataFrame) ->  pd.DataFrame:\n",
        "\n",
        "    total_filas = len(df)\n",
        "    nulos = df.isna().sum()\n",
        "    percentage = (nulos / total_filas) * 100\n",
        "\n",
        "    resumen = pd.DataFrame(\n",
        "        {\n",
        "            \"columna\": nulos.index,\n",
        "            \"nulos\": nulos.values,\n",
        "            \"percentage\": percentage.values.round(2)\n",
        "        }\n",
        "    )\n",
        "\n",
        "    return resumen.reset_index(drop=True).sort_values(by=\"percentage\", ascending=False)\n",
        "\n"
      ],
      "metadata": {
        "id": "qc3724mMc1_N"
      },
      "execution_count": null,
      "outputs": []
    },
    {
      "cell_type": "code",
      "source": [
        "mostrar_perc_nulls(video_games_df)"
      ],
      "metadata": {
        "id": "oaNdGmAkfaqf"
      },
      "execution_count": null,
      "outputs": []
    },
    {
      "cell_type": "markdown",
      "source": [
        "*Duplicados*\n",
        "- Hacer una funcion que me permita ver los datos duplicados"
      ],
      "metadata": {
        "id": "wl6zqwe8hvRj"
      }
    },
    {
      "cell_type": "code",
      "source": [
        "# suponiendo que tengo dos columnas como PK's\n",
        "subset_pk:list[str] = [\"Name\",\"Platform\"]\n",
        "video_games_df.duplicated(subset=subset_pk).sum()\n"
      ],
      "metadata": {
        "id": "5UpFxY3NjyNH"
      },
      "execution_count": null,
      "outputs": []
    },
    {
      "cell_type": "code",
      "source": [
        "video_games_df.duplicated().sum()"
      ],
      "metadata": {
        "id": "vM5-3ZTnjFQ1"
      },
      "execution_count": null,
      "outputs": []
    },
    {
      "cell_type": "code",
      "source": [
        "# transformar el año en tipo fecha\n",
        "\n",
        "video_games_df[\"Year_of_Release\"] = pd.to_datetime(video_games_df.Year_of_Release, format=\"%Y\")\n"
      ],
      "metadata": {
        "id": "xJheDqtQpCiw"
      },
      "execution_count": null,
      "outputs": []
    },
    {
      "cell_type": "code",
      "source": [
        "# video_games_df[\"Year_of_Release\"] =\n",
        "video_games_df[video_games_df.Year_of_Release.isna()]"
      ],
      "metadata": {
        "id": "IEfIjcumnSGc"
      },
      "execution_count": null,
      "outputs": []
    },
    {
      "cell_type": "code",
      "source": [
        "moda_fecha = video_games_df[\"Year_of_Release\"].mode()"
      ],
      "metadata": {
        "id": "oV__3685qxm1"
      },
      "execution_count": null,
      "outputs": []
    },
    {
      "cell_type": "code",
      "source": [
        "# video_games_df[\"Year_of_Release\"]= video_games_df[\"Year_of_Release\"].fillna(moda_fecha)"
      ],
      "metadata": {
        "id": "vXrkHPB2q9a7"
      },
      "execution_count": null,
      "outputs": []
    },
    {
      "cell_type": "code",
      "source": [
        "video_games_df[\"Year_of_Release\"] = video_games_df[\"Year_of_Release\"].fillna(method=\"ffill\")"
      ],
      "metadata": {
        "id": "_clPrrMopcZD"
      },
      "execution_count": null,
      "outputs": []
    },
    {
      "cell_type": "code",
      "source": [
        "# video_games_df.iloc[16376]"
      ],
      "metadata": {
        "id": "Cb0Y0HDypvOr"
      },
      "execution_count": null,
      "outputs": []
    },
    {
      "cell_type": "code",
      "source": [],
      "metadata": {
        "id": "obXRU9Vuqc9J"
      },
      "execution_count": null,
      "outputs": []
    },
    {
      "cell_type": "code",
      "source": [
        "mostrar_perc_nulls(video_games_df)"
      ],
      "metadata": {
        "id": "sjHseAGDqOTT"
      },
      "execution_count": null,
      "outputs": []
    },
    {
      "cell_type": "code",
      "source": [
        "# video_games_df[\"Developer\"] = video_games_df.Developer.str.lower().str.replace(\"-\",\" \")"
      ],
      "metadata": {
        "id": "OatGtgWgrQ07"
      },
      "execution_count": null,
      "outputs": []
    },
    {
      "cell_type": "code",
      "source": [
        "def fill_na_by_publisher(row):\n",
        "    if pd.isna(row[\"Developer\"]): # ve si es null\n",
        "\n",
        "        if row[\"Publisher\"] in [\"Atari\", \"Warner Bros. Interactive Entertainment\"]: # analiza si el publisher es alguna de esas opciones\n",
        "            return \"Nintendo\" # --> entonces me coloc como nintendo\n",
        "        else:\n",
        "            return \"Appel Inc.\" # --> es apple\n",
        "\n",
        "    return row[\"Developer\"] # --> retorna esa transformacion"
      ],
      "metadata": {
        "id": "hJTa3-5FyXnE"
      },
      "execution_count": null,
      "outputs": []
    },
    {
      "cell_type": "code",
      "source": [
        "# reemplazo condicional\n",
        "video_games_df[\"Developer\"] = video_games_df.apply(fill_na_by_publisher, axis=1)\n",
        "\n"
      ],
      "metadata": {
        "id": "soHHU8M2xcIr"
      },
      "execution_count": null,
      "outputs": []
    },
    {
      "cell_type": "code",
      "source": [
        "mostrar_perc_nulls(video_games_df)"
      ],
      "metadata": {
        "id": "5nc2xGkgsTx8"
      },
      "execution_count": null,
      "outputs": []
    },
    {
      "cell_type": "code",
      "source": [
        "\n",
        "## busqueda de los de mayores ventas\n",
        "top_devs = (\n",
        "    video_games_df.groupby(\"Developer\")[[\"EU_Sales\",\"JP_Sales\",\"Other_Sales\"]]\n",
        "    .sum()\n",
        "    .sum(axis=1)\n",
        "    .nlargest(5)\n",
        "    .index\n",
        ")"
      ],
      "metadata": {
        "id": "beY-E_iY-pfQ"
      },
      "execution_count": null,
      "outputs": []
    },
    {
      "cell_type": "code",
      "source": [
        "columnas_keep = [\"Year_of_Release\",\"Other_Sales\",\"EU_Sales\",\"JP_Sales\",\"Developer\"]\n",
        "\n",
        "ventas_graficar_df = video_games_df[columnas_keep]\n",
        "ventas_graficar_df = ventas_graficar_df[ventas_graficar_df[\"Developer\"].isin(top_devs)]\n",
        "ventas_graficar_df.head()"
      ],
      "metadata": {
        "id": "dMNu7VAF0jJ4"
      },
      "execution_count": null,
      "outputs": []
    },
    {
      "cell_type": "code",
      "source": [
        "ventas_graficar_df = ventas_graficar_df.set_index(\"Year_of_Release\").sort_index()"
      ],
      "metadata": {
        "id": "HrOcSz4a1Mmx"
      },
      "execution_count": null,
      "outputs": []
    },
    {
      "cell_type": "code",
      "source": [
        "ventas_graficar_df.info()"
      ],
      "metadata": {
        "id": "sUc-vu3y1cvw"
      },
      "execution_count": null,
      "outputs": []
    },
    {
      "cell_type": "markdown",
      "source": [
        "*Graficar este challenge por los graficos de linea*"
      ],
      "metadata": {
        "id": "eKIzM91_23Kh"
      }
    },
    {
      "cell_type": "code",
      "source": [
        "import matplotlib.pyplot as plt"
      ],
      "metadata": {
        "id": "pt7bLum83JIM"
      },
      "execution_count": null,
      "outputs": []
    },
    {
      "cell_type": "code",
      "source": [
        "regiones = [\"EU_Sales\", \"JP_Sales\", \"Other_Sales\"]"
      ],
      "metadata": {
        "id": "QDA9D01_2-Dx"
      },
      "execution_count": null,
      "outputs": []
    },
    {
      "cell_type": "code",
      "source": [
        "# Agrupamos por Developer y Year_of_Release\n",
        "ventas_resampled =(\n",
        "    ventas_graficar_df\n",
        "    # un objeto de manipulacion agrupada se debe usar Grouper -->\n",
        "    .groupby([\"Developer\", pd.Grouper(freq=\"YE\")])[regiones]\n",
        "    .sum()\n",
        "    .reset_index()\n",
        ")\n",
        "\n",
        "ventas_resampled"
      ],
      "metadata": {
        "id": "uE5sd0cfBQtg"
      },
      "execution_count": null,
      "outputs": []
    },
    {
      "cell_type": "code",
      "source": [
        "fig, axes = plt.subplots(1, 3, figsize=(16, 9))\n",
        "\n",
        "# Grafica iterable con regiones y la data sampleada\n",
        "\n",
        "for ax, region in zip(axes, regiones):\n",
        "    for dev, grupo in ventas_resampled.groupby(\"Developer\"):\n",
        "        ax.plot(\n",
        "            grupo[\"Year_of_Release\"],  # columna con fecha resampleada\n",
        "            grupo[region],\n",
        "            label=dev,\n",
        "            alpha=0.7\n",
        "        )\n",
        "    ax.set_title(region.replace(\"_\", \" \"))\n",
        "    ax.set_ylabel(\"Millones\")\n",
        "    ax.grid(True, alpha=0.2)\n",
        "    ax.legend(fontsize=8)\n",
        "\n",
        "    # Girar etiquetas del eje X\n",
        "    plt.setp(ax.get_xticklabels(), rotation=45, ha=\"right\")\n",
        "\n",
        "plt.suptitle(\"Ventas por Región y Developer\", fontsize=16, y=1.02)\n",
        "plt.tight_layout()\n",
        "plt.show()\n"
      ],
      "metadata": {
        "id": "ChUz8YVc3MUt"
      },
      "execution_count": null,
      "outputs": []
    }
  ]
}