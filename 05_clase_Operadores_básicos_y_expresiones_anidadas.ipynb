{
  "nbformat": 4,
  "nbformat_minor": 0,
  "metadata": {
    "colab": {
      "provenance": [],
      "collapsed_sections": [
        "bt0L2cb9AUn7",
        "eGJrWTWX_XJM",
        "mIYOgP_HAfFK",
        "MImBgZmpDkwP",
        "tinrn9x5Hczq",
        "xQrz8dtoI924",
        "Ah9DmGZKfpiA"
      ],
      "include_colab_link": true
    },
    "kernelspec": {
      "name": "python3",
      "display_name": "Python 3"
    },
    "language_info": {
      "name": "python"
    }
  },
  "cells": [
    {
      "cell_type": "markdown",
      "metadata": {
        "id": "view-in-github",
        "colab_type": "text"
      },
      "source": [
        "<a href=\"https://colab.research.google.com/github/santisf/datascience_coder/blob/main/05_clase_Operadores_b%C3%A1sicos_y_expresiones_anidadas.ipynb\" target=\"_parent\"><img src=\"https://colab.research.google.com/assets/colab-badge.svg\" alt=\"Open In Colab\"/></a>"
      ]
    },
    {
      "cell_type": "markdown",
      "source": [
        "# Operadores"
      ],
      "metadata": {
        "id": "33JmFimo_vnh"
      }
    },
    {
      "cell_type": "markdown",
      "source": [
        "## Tipo lógico (True / False)"
      ],
      "metadata": {
        "id": "It3UZ6hY2utt"
      }
    },
    {
      "cell_type": "markdown",
      "source": [
        "Guardamos el valor en una variable"
      ],
      "metadata": {
        "id": "MvaUZPUm3nc2"
      }
    },
    {
      "cell_type": "code",
      "source": [
        "es_mayor = True\n",
        "print(es_mayor)"
      ],
      "metadata": {
        "id": "hoefUz7E8WIs",
        "colab": {
          "base_uri": "https://localhost:8080/"
        },
        "outputId": "ce2c55eb-8cb9-460c-ed3b-2285cecda4d3"
      },
      "execution_count": null,
      "outputs": [
        {
          "output_type": "stream",
          "name": "stdout",
          "text": [
            "True\n"
          ]
        }
      ]
    },
    {
      "cell_type": "code",
      "source": [
        "es_mayor = False\n",
        "print(es_mayor)"
      ],
      "metadata": {
        "id": "GRWyC1BH8kTR",
        "colab": {
          "base_uri": "https://localhost:8080/"
        },
        "outputId": "b1cfb846-5064-47b8-f4bd-ae42374fcb76"
      },
      "execution_count": null,
      "outputs": [
        {
          "output_type": "stream",
          "name": "stdout",
          "text": [
            "False\n"
          ]
        }
      ]
    },
    {
      "cell_type": "markdown",
      "source": [
        "Se puede negar un valor, en otras palabras, lo cambia al estado contrario"
      ],
      "metadata": {
        "id": "DTIB54tH3rjj"
      }
    },
    {
      "cell_type": "code",
      "source": [
        "es_mayor = not True\n",
        "print(es_mayor)"
      ],
      "metadata": {
        "id": "RulN5NLj3eDg",
        "colab": {
          "base_uri": "https://localhost:8080/"
        },
        "outputId": "05a94579-a717-4dbd-bb62-f0c3d8566fc9"
      },
      "execution_count": null,
      "outputs": [
        {
          "output_type": "stream",
          "name": "stdout",
          "text": [
            "False\n"
          ]
        }
      ]
    },
    {
      "cell_type": "code",
      "source": [
        "es_mayor = not False\n",
        "print(es_mayor)"
      ],
      "metadata": {
        "id": "e7fZfJT335Go",
        "colab": {
          "base_uri": "https://localhost:8080/"
        },
        "outputId": "17c55f42-7c0b-481a-df47-2b628efde608"
      },
      "execution_count": null,
      "outputs": [
        {
          "output_type": "stream",
          "name": "stdout",
          "text": [
            "True\n"
          ]
        }
      ]
    },
    {
      "cell_type": "code",
      "source": [
        "type(es_mayor)"
      ],
      "metadata": {
        "colab": {
          "base_uri": "https://localhost:8080/"
        },
        "id": "k9u6FpHmucwk",
        "outputId": "260b579a-9083-4a30-c91f-5b9af46d400b"
      },
      "execution_count": null,
      "outputs": [
        {
          "output_type": "execute_result",
          "data": {
            "text/plain": [
              "bool"
            ]
          },
          "metadata": {},
          "execution_count": 5
        }
      ]
    },
    {
      "cell_type": "markdown",
      "source": [
        "Podemos castear cualquier tipo de dato a boolean"
      ],
      "metadata": {
        "id": "bRGr62pW4hqX"
      }
    },
    {
      "cell_type": "markdown",
      "source": [
        "\"Castear\" es convertir el tipo de dato, ejemplo:<br>\n",
        "valor = int(\"123\")"
      ],
      "metadata": {
        "id": "mITPDxJOuZ3X"
      }
    },
    {
      "cell_type": "code",
      "source": [
        "respuesta_1 = bool(1)\n",
        "respuesta_2 = bool(\"Buenas noches!\")\n",
        "respuesta_3 = bool(123.56)\n",
        "respuesta_4 = bool([\"a\", \"b\"])\n",
        "respuesta_5 = bool((1,))\n",
        "respuesta_6 = bool({1,2,3})\n",
        "respuesta_7 = bool({\"hola\": \"Comi\"})\n",
        "\n",
        "respuesta_8 = bool(0)\n",
        "respuesta_9 = bool(\"\")\n",
        "respuesta_10 = bool(0.0)\n",
        "respuesta_11 = bool([])\n",
        "respuesta_12 = bool(())\n",
        "respuesta_13 = bool({})"
      ],
      "metadata": {
        "id": "SHXIf8T74nRb"
      },
      "execution_count": null,
      "outputs": []
    },
    {
      "cell_type": "code",
      "source": [
        "print(respuesta_1)\n",
        "print(respuesta_2)\n",
        "print(respuesta_3)\n",
        "print(respuesta_4)\n",
        "print(respuesta_5)\n",
        "print(respuesta_6)\n",
        "print(respuesta_7)"
      ],
      "metadata": {
        "id": "iG-IHFgx5YIp",
        "colab": {
          "base_uri": "https://localhost:8080/"
        },
        "outputId": "79930eb6-a268-4a1f-8aff-9b471faeced7"
      },
      "execution_count": null,
      "outputs": [
        {
          "output_type": "stream",
          "name": "stdout",
          "text": [
            "True\n",
            "True\n",
            "True\n",
            "True\n",
            "True\n",
            "True\n",
            "True\n"
          ]
        }
      ]
    },
    {
      "cell_type": "code",
      "source": [
        "print(respuesta_8)\n",
        "print(respuesta_9)\n",
        "print(respuesta_10)\n",
        "print(respuesta_11)\n",
        "print(respuesta_12)\n",
        "print(respuesta_13)"
      ],
      "metadata": {
        "id": "OFa_LUej5d8T",
        "colab": {
          "base_uri": "https://localhost:8080/"
        },
        "outputId": "a4117d27-74e3-46f4-8628-b3c4efd06806"
      },
      "execution_count": null,
      "outputs": [
        {
          "output_type": "stream",
          "name": "stdout",
          "text": [
            "False\n",
            "False\n",
            "False\n",
            "False\n",
            "False\n",
            "False\n"
          ]
        }
      ]
    },
    {
      "cell_type": "code",
      "source": [
        "x = 5\n",
        "y = 3\n",
        "\n",
        "print(x - y)"
      ],
      "metadata": {
        "id": "RiQUKcni8lyH",
        "colab": {
          "base_uri": "https://localhost:8080/"
        },
        "outputId": "71cc1f72-2ae7-40ff-971b-27a4bc760b55"
      },
      "execution_count": null,
      "outputs": [
        {
          "output_type": "stream",
          "name": "stdout",
          "text": [
            "2\n"
          ]
        }
      ]
    },
    {
      "cell_type": "code",
      "source": [
        "x = 2\n",
        "y = 2\n",
        "\n",
        "print(x * y)"
      ],
      "metadata": {
        "id": "IqMN8mZj8nYL",
        "colab": {
          "base_uri": "https://localhost:8080/"
        },
        "outputId": "adf5aa4f-7949-4eca-961f-3e4a3efa59ce"
      },
      "execution_count": null,
      "outputs": [
        {
          "output_type": "stream",
          "name": "stdout",
          "text": [
            "4\n"
          ]
        }
      ]
    },
    {
      "cell_type": "code",
      "source": [
        "x = 12\n",
        "y = 3\n",
        "\n",
        "print(x / y)"
      ],
      "metadata": {
        "id": "m6i-yC9o8pEV",
        "colab": {
          "base_uri": "https://localhost:8080/"
        },
        "outputId": "e1de9c4e-2f78-410d-f70f-11d673bf77d6"
      },
      "execution_count": null,
      "outputs": [
        {
          "output_type": "stream",
          "name": "stdout",
          "text": [
            "4.0\n"
          ]
        }
      ]
    },
    {
      "cell_type": "code",
      "source": [
        "x = 12\n",
        "y = 5\n",
        "\n",
        "print(x // y)"
      ],
      "metadata": {
        "id": "Jbjebrvw8_fN",
        "colab": {
          "base_uri": "https://localhost:8080/"
        },
        "outputId": "3282e748-8180-45a5-da67-1d35ccdf8b8a"
      },
      "execution_count": null,
      "outputs": [
        {
          "output_type": "stream",
          "name": "stdout",
          "text": [
            "2\n"
          ]
        }
      ]
    },
    {
      "cell_type": "code",
      "source": [
        "x = 14\n",
        "y = 5\n",
        "\n",
        "print(x % y)"
      ],
      "metadata": {
        "id": "NsJg5Wai8rLY",
        "colab": {
          "base_uri": "https://localhost:8080/"
        },
        "outputId": "b6f917b9-f963-4fd0-e688-8f85b3977046"
      },
      "execution_count": null,
      "outputs": [
        {
          "output_type": "stream",
          "name": "stdout",
          "text": [
            "4\n"
          ]
        }
      ]
    },
    {
      "cell_type": "code",
      "source": [
        "x = 2\n",
        "y = 5\n",
        "\n",
        "print(x ** y)"
      ],
      "metadata": {
        "id": "ic5OY-AM8sor",
        "colab": {
          "base_uri": "https://localhost:8080/"
        },
        "outputId": "49351f28-b6ff-45d6-a7a0-085ecadd6732"
      },
      "execution_count": null,
      "outputs": [
        {
          "output_type": "stream",
          "name": "stdout",
          "text": [
            "32\n"
          ]
        }
      ]
    },
    {
      "cell_type": "markdown",
      "source": [
        "## Operadores relacionales"
      ],
      "metadata": {
        "id": "1rE9HKUf_fgc"
      }
    },
    {
      "cell_type": "code",
      "source": [
        "# Operadores de asignación vs relacionales\n",
        "valor_1 = 5\n",
        "valor_2 = 10\n",
        "\n",
        "valor_1 == valor_2"
      ],
      "metadata": {
        "id": "kzlTfgFB6Amq",
        "colab": {
          "base_uri": "https://localhost:8080/"
        },
        "outputId": "fd75390c-4bc7-4c80-c0a5-37b3fde1886b"
      },
      "execution_count": null,
      "outputs": [
        {
          "output_type": "execute_result",
          "data": {
            "text/plain": [
              "False"
            ]
          },
          "metadata": {},
          "execution_count": 15
        }
      ]
    },
    {
      "cell_type": "code",
      "source": [
        "# IGUALDAD\n",
        "valor_1 = 10\n",
        "valor_2 = 10\n",
        "\n",
        "respuesta = valor_1 == valor_2\n",
        "print(respuesta)"
      ],
      "metadata": {
        "id": "HXWey5WC6U05",
        "colab": {
          "base_uri": "https://localhost:8080/"
        },
        "outputId": "e868ad45-e7f8-47aa-9d93-64fdaaf684e0"
      },
      "execution_count": null,
      "outputs": [
        {
          "output_type": "stream",
          "name": "stdout",
          "text": [
            "True\n"
          ]
        }
      ]
    },
    {
      "cell_type": "code",
      "source": [
        "# DESIGUALDAD\n",
        "valor_1 = 5\n",
        "valor_2 = 10\n",
        "\n",
        "respuesta = valor_1 != valor_2\n",
        "print(respuesta)"
      ],
      "metadata": {
        "id": "QSyLgTV66cZW",
        "colab": {
          "base_uri": "https://localhost:8080/"
        },
        "outputId": "0345730c-7949-41f5-bc12-f026192a8a9a"
      },
      "execution_count": null,
      "outputs": [
        {
          "output_type": "stream",
          "name": "stdout",
          "text": [
            "True\n"
          ]
        }
      ]
    },
    {
      "cell_type": "code",
      "source": [
        "# MENOR QUE\n",
        "valor_1 = 5\n",
        "valor_2 = 10\n",
        "\n",
        "respuesta = valor_1 < valor_2\n",
        "print(respuesta)"
      ],
      "metadata": {
        "id": "1LnRNVMY6git",
        "colab": {
          "base_uri": "https://localhost:8080/"
        },
        "outputId": "b280b22b-9af0-48dd-f004-19f7e5771c07"
      },
      "execution_count": null,
      "outputs": [
        {
          "output_type": "stream",
          "name": "stdout",
          "text": [
            "True\n"
          ]
        }
      ]
    },
    {
      "cell_type": "code",
      "source": [
        "# MENOR IGUAL QUE\n",
        "valor_1 = 5\n",
        "valor_2 = 10\n",
        "\n",
        "respuesta = valor_1 <= valor_2\n",
        "print(respuesta)"
      ],
      "metadata": {
        "id": "h-Kmmw0N6j9J",
        "colab": {
          "base_uri": "https://localhost:8080/"
        },
        "outputId": "4edbd5ed-5c2d-4ab6-c4e4-e8f59b4d7547"
      },
      "execution_count": null,
      "outputs": [
        {
          "output_type": "stream",
          "name": "stdout",
          "text": [
            "True\n"
          ]
        }
      ]
    },
    {
      "cell_type": "code",
      "source": [
        "# MAYOR QUE\n",
        "valor_1 = 5\n",
        "valor_2 = 10\n",
        "\n",
        "respuesta = valor_1 > valor_2\n",
        "print(respuesta)"
      ],
      "metadata": {
        "id": "MW_YBjjA6klg",
        "colab": {
          "base_uri": "https://localhost:8080/"
        },
        "outputId": "36d272d8-8456-4a54-f340-870c75640a0a"
      },
      "execution_count": null,
      "outputs": [
        {
          "output_type": "stream",
          "name": "stdout",
          "text": [
            "False\n"
          ]
        }
      ]
    },
    {
      "cell_type": "code",
      "source": [
        "# MAYOR IGUAL QUE\n",
        "valor_1 = 5\n",
        "valor_2 = 10\n",
        "\n",
        "respuesta = valor_1 >= valor_2\n",
        "print(respuesta)"
      ],
      "metadata": {
        "id": "wSy1Xpqv6k6Z",
        "colab": {
          "base_uri": "https://localhost:8080/"
        },
        "outputId": "32124738-60ad-4afc-d240-a786bfa2a624"
      },
      "execution_count": null,
      "outputs": [
        {
          "output_type": "stream",
          "name": "stdout",
          "text": [
            "False\n"
          ]
        }
      ]
    },
    {
      "cell_type": "code",
      "source": [
        "# Todas las operaciones aplican a diferentes tipos de datos\n",
        "valor_1 = \"Hola\"\n",
        "valor_2 = \"Comisión\"\n",
        "\n",
        "respuesta = valor_1 >= valor_2\n",
        "print(respuesta)"
      ],
      "metadata": {
        "id": "C3GImpFp6lIG",
        "colab": {
          "base_uri": "https://localhost:8080/"
        },
        "outputId": "7ae2ad56-d213-4e35-ec5b-11701bb79745"
      },
      "execution_count": null,
      "outputs": [
        {
          "output_type": "stream",
          "name": "stdout",
          "text": [
            "True\n"
          ]
        }
      ]
    },
    {
      "cell_type": "code",
      "source": [
        "valor_1 = [1,2,3]\n",
        "valor_2 = [5]\n",
        "\n",
        "respuesta = valor_1 >= valor_2\n",
        "print(respuesta)"
      ],
      "metadata": {
        "id": "5vdRFQM_6lXq",
        "colab": {
          "base_uri": "https://localhost:8080/"
        },
        "outputId": "b2522071-c64a-423c-d0ee-aeeaf11e64d8"
      },
      "execution_count": null,
      "outputs": [
        {
          "output_type": "stream",
          "name": "stdout",
          "text": [
            "False\n"
          ]
        }
      ]
    },
    {
      "cell_type": "markdown",
      "source": [
        "Los tipo lógicos (True/False) tienen un valor por defecto:<br>\n",
        "True = 1\n",
        "False = 0"
      ],
      "metadata": {
        "id": "z8Lu94M2-JkP"
      }
    },
    {
      "cell_type": "code",
      "source": [
        "True * 100"
      ],
      "metadata": {
        "id": "_AujuYsB-XRO",
        "colab": {
          "base_uri": "https://localhost:8080/"
        },
        "outputId": "08643cf4-2f2f-4254-95f4-73c96bb34c00"
      },
      "execution_count": null,
      "outputs": [
        {
          "output_type": "execute_result",
          "data": {
            "text/plain": [
              "100"
            ]
          },
          "metadata": {},
          "execution_count": 24
        }
      ]
    },
    {
      "cell_type": "code",
      "source": [
        "False + 5"
      ],
      "metadata": {
        "id": "0fFPG0r9-XkU",
        "colab": {
          "base_uri": "https://localhost:8080/"
        },
        "outputId": "78c6d12e-db90-4933-d214-e44f7bdcf17c"
      },
      "execution_count": null,
      "outputs": [
        {
          "output_type": "execute_result",
          "data": {
            "text/plain": [
              "5"
            ]
          },
          "metadata": {},
          "execution_count": 25
        }
      ]
    },
    {
      "cell_type": "markdown",
      "source": [
        "## Ejercicio: Operadores relacionales"
      ],
      "metadata": {
        "id": "bt0L2cb9AUn7"
      }
    },
    {
      "cell_type": "code",
      "source": [
        "expresiones = [False == True, 10 >= 2*4, 33/3 == 11, True > False, True*5 == 2.5*2]"
      ],
      "metadata": {
        "id": "2_aPODfJUpcM"
      },
      "execution_count": null,
      "outputs": []
    },
    {
      "cell_type": "code",
      "source": [
        "expresiones = [\n",
        "    False == True,\n",
        "    10 >= 2*4,\n",
        "    33/3 == 11,\n",
        "    True > False,\n",
        "    True*5 == 2.5*2\n",
        "]\n",
        "print(expresiones)"
      ],
      "metadata": {
        "id": "ildr0tdHAYBY",
        "colab": {
          "base_uri": "https://localhost:8080/"
        },
        "outputId": "3e90d92e-6bd1-477d-aa99-34b7af6e0302"
      },
      "execution_count": null,
      "outputs": [
        {
          "output_type": "stream",
          "name": "stdout",
          "text": [
            "[False, True, True, True, True]\n"
          ]
        }
      ]
    },
    {
      "cell_type": "markdown",
      "source": [
        "## Operadores lógicos"
      ],
      "metadata": {
        "id": "eGJrWTWX_XJM"
      }
    },
    {
      "cell_type": "markdown",
      "source": [
        "NOT<br>\n",
        "Negación, invierte el valor booleano de una comparación"
      ],
      "metadata": {
        "id": "90I8dLDM_gy1"
      }
    },
    {
      "cell_type": "code",
      "source": [
        "not True"
      ],
      "metadata": {
        "id": "tXtsYQ6hVEmT",
        "colab": {
          "base_uri": "https://localhost:8080/"
        },
        "outputId": "b28b6527-053c-4ea2-f941-6011e6713e79"
      },
      "execution_count": null,
      "outputs": [
        {
          "output_type": "execute_result",
          "data": {
            "text/plain": [
              "False"
            ]
          },
          "metadata": {},
          "execution_count": 1
        }
      ]
    },
    {
      "cell_type": "code",
      "source": [
        "not False"
      ],
      "metadata": {
        "id": "l0DwhXM0VCkr",
        "colab": {
          "base_uri": "https://localhost:8080/"
        },
        "outputId": "184a54a8-7071-485a-a476-f16463ead548"
      },
      "execution_count": null,
      "outputs": [
        {
          "output_type": "execute_result",
          "data": {
            "text/plain": [
              "True"
            ]
          },
          "metadata": {},
          "execution_count": 2
        }
      ]
    },
    {
      "cell_type": "code",
      "source": [
        "not 5 > 10"
      ],
      "metadata": {
        "id": "zudesfbo_aE6",
        "colab": {
          "base_uri": "https://localhost:8080/"
        },
        "outputId": "854018dc-5a6f-4e8d-8c49-34fb464af902"
      },
      "execution_count": null,
      "outputs": [
        {
          "output_type": "execute_result",
          "data": {
            "text/plain": [
              "True"
            ]
          },
          "metadata": {},
          "execution_count": 3
        }
      ]
    },
    {
      "cell_type": "code",
      "source": [
        "not 10 > 5"
      ],
      "metadata": {
        "id": "nncYEIA4_atY",
        "colab": {
          "base_uri": "https://localhost:8080/"
        },
        "outputId": "bb90de5a-5529-47c1-bbc3-44a79b2cb927"
      },
      "execution_count": null,
      "outputs": [
        {
          "output_type": "execute_result",
          "data": {
            "text/plain": [
              "False"
            ]
          },
          "metadata": {},
          "execution_count": 4
        }
      ]
    },
    {
      "cell_type": "code",
      "source": [
        "10 > (not 5)"
      ],
      "metadata": {
        "id": "iqVUrQWUhdIs",
        "colab": {
          "base_uri": "https://localhost:8080/"
        },
        "outputId": "1f892f5b-77a1-46c6-d049-2f17acfc73a5"
      },
      "execution_count": null,
      "outputs": [
        {
          "output_type": "execute_result",
          "data": {
            "text/plain": [
              "True"
            ]
          },
          "metadata": {},
          "execution_count": 5
        }
      ]
    },
    {
      "cell_type": "markdown",
      "source": [
        "AND<br>\n",
        "Devuelve verdadero si 2 comparaciones son verdaderas.<br>\n",
        "Devuelve falso si al menos una de las 2 comparaciones es falsa."
      ],
      "metadata": {
        "id": "l25Je38K_xvR"
      }
    },
    {
      "cell_type": "code",
      "source": [
        "True and True"
      ],
      "metadata": {
        "id": "4utLk5swWYBc",
        "colab": {
          "base_uri": "https://localhost:8080/"
        },
        "outputId": "f387bf5b-d27a-43b8-a039-8e9f495d6460"
      },
      "execution_count": null,
      "outputs": [
        {
          "output_type": "execute_result",
          "data": {
            "text/plain": [
              "True"
            ]
          },
          "metadata": {},
          "execution_count": 6
        }
      ]
    },
    {
      "cell_type": "code",
      "source": [
        "print(True and True)\n",
        "print(True and False)\n",
        "print(False and True)\n",
        "print(False and False)"
      ],
      "metadata": {
        "id": "_lwiky98Vbhj",
        "colab": {
          "base_uri": "https://localhost:8080/"
        },
        "outputId": "971ba0c5-acec-4d8a-95f2-2aed43c0aacd"
      },
      "execution_count": null,
      "outputs": [
        {
          "output_type": "stream",
          "name": "stdout",
          "text": [
            "True\n",
            "False\n",
            "False\n",
            "False\n"
          ]
        }
      ]
    },
    {
      "cell_type": "code",
      "source": [
        "5 > 1 and 2"
      ],
      "metadata": {
        "colab": {
          "base_uri": "https://localhost:8080/"
        },
        "id": "A3mmTMQArCC-",
        "outputId": "1dc98d15-096e-4304-d124-028ffe3aeeec"
      },
      "execution_count": null,
      "outputs": [
        {
          "output_type": "execute_result",
          "data": {
            "text/plain": [
              "2"
            ]
          },
          "metadata": {},
          "execution_count": 12
        }
      ]
    },
    {
      "cell_type": "code",
      "source": [
        "2 and 5 > 1"
      ],
      "metadata": {
        "id": "HS5VzL2i_arC",
        "colab": {
          "base_uri": "https://localhost:8080/"
        },
        "outputId": "b1ebcf3b-f184-48ee-8d59-037cb4262031"
      },
      "execution_count": null,
      "outputs": [
        {
          "output_type": "execute_result",
          "data": {
            "text/plain": [
              "True"
            ]
          },
          "metadata": {},
          "execution_count": 11
        }
      ]
    },
    {
      "cell_type": "code",
      "source": [
        "if 2:\n",
        "    print(\"Hola\")"
      ],
      "metadata": {
        "colab": {
          "base_uri": "https://localhost:8080/"
        },
        "id": "OgpE9Phmq4me",
        "outputId": "af7d1003-1151-43b8-ca64-96dea1a1e4d4"
      },
      "execution_count": null,
      "outputs": [
        {
          "output_type": "stream",
          "name": "stdout",
          "text": [
            "Hola\n"
          ]
        }
      ]
    },
    {
      "cell_type": "code",
      "source": [
        "2 > 1 and 5 > 20"
      ],
      "metadata": {
        "id": "gAFE9jaJ_aoj",
        "colab": {
          "base_uri": "https://localhost:8080/"
        },
        "outputId": "5da23b7b-6418-4c95-a4bd-0415ee4541c6"
      },
      "execution_count": null,
      "outputs": [
        {
          "output_type": "execute_result",
          "data": {
            "text/plain": [
              "False"
            ]
          },
          "metadata": {},
          "execution_count": 9
        }
      ]
    },
    {
      "cell_type": "code",
      "source": [
        "edad = 15\n",
        "edad >= 18 and 5 / 0 * 256346 * \"dsflgksdfklg\" * \"dzñfsgldsfg\""
      ],
      "metadata": {
        "colab": {
          "base_uri": "https://localhost:8080/"
        },
        "id": "gDI67pj_rN8d",
        "outputId": "30dd6094-5cf0-4770-be4b-76e4b3f22104"
      },
      "execution_count": null,
      "outputs": [
        {
          "output_type": "execute_result",
          "data": {
            "text/plain": [
              "False"
            ]
          },
          "metadata": {},
          "execution_count": 21
        }
      ]
    },
    {
      "cell_type": "code",
      "source": [
        "edad = 18\n",
        "edad >= 18 and 5 / 0"
      ],
      "metadata": {
        "colab": {
          "base_uri": "https://localhost:8080/",
          "height": 159
        },
        "id": "AGlchb7dsUNz",
        "outputId": "f4e6cdfd-d604-4a40-a7e9-684b5c571a50"
      },
      "execution_count": null,
      "outputs": [
        {
          "output_type": "error",
          "ename": "ZeroDivisionError",
          "evalue": "division by zero",
          "traceback": [
            "\u001b[0;31m---------------------------------------------------------------------------\u001b[0m",
            "\u001b[0;31mZeroDivisionError\u001b[0m                         Traceback (most recent call last)",
            "\u001b[0;32m/tmp/ipython-input-2911700407.py\u001b[0m in \u001b[0;36m<cell line: 0>\u001b[0;34m()\u001b[0m\n\u001b[1;32m      1\u001b[0m \u001b[0medad\u001b[0m \u001b[0;34m=\u001b[0m \u001b[0;36m18\u001b[0m\u001b[0;34m\u001b[0m\u001b[0;34m\u001b[0m\u001b[0m\n\u001b[0;32m----> 2\u001b[0;31m \u001b[0medad\u001b[0m \u001b[0;34m>=\u001b[0m \u001b[0;36m18\u001b[0m \u001b[0;32mand\u001b[0m \u001b[0;36m5\u001b[0m \u001b[0;34m/\u001b[0m \u001b[0;36m0\u001b[0m\u001b[0;34m\u001b[0m\u001b[0;34m\u001b[0m\u001b[0m\n\u001b[0m",
            "\u001b[0;31mZeroDivisionError\u001b[0m: division by zero"
          ]
        }
      ]
    },
    {
      "cell_type": "code",
      "source": [
        "edad = input(\"Ingrese una edad: \")\n",
        "edad = int(edad)\n",
        "\n",
        "mayor = edad >= 18\n",
        "print(mayor)"
      ],
      "metadata": {
        "id": "yKIHUwhdVmZ3"
      },
      "execution_count": null,
      "outputs": []
    },
    {
      "cell_type": "markdown",
      "source": [
        "OR<br>\n",
        "Devuelve verdadero si al menos una comparación es verdadera.<br>\n",
        "Devuelve falso si ambas comparaciones son falsas."
      ],
      "metadata": {
        "id": "_-xEuzSFAVXA"
      }
    },
    {
      "cell_type": "code",
      "source": [
        "print(True or True)\n",
        "print(True or False)\n",
        "print(False or True)\n",
        "print(False or False)"
      ],
      "metadata": {
        "id": "nSNLLT6XWE69",
        "colab": {
          "base_uri": "https://localhost:8080/"
        },
        "outputId": "ba69c32f-84e4-4b1e-d246-90e32555e16d"
      },
      "execution_count": null,
      "outputs": [
        {
          "output_type": "stream",
          "name": "stdout",
          "text": [
            "True\n",
            "True\n",
            "True\n",
            "False\n"
          ]
        }
      ]
    },
    {
      "cell_type": "code",
      "source": [
        "2 > 1 or 5 > 2"
      ],
      "metadata": {
        "id": "GgNbzeLd_al-",
        "colab": {
          "base_uri": "https://localhost:8080/"
        },
        "outputId": "f4817bda-78ee-4e02-8c5b-4f0347fa9390"
      },
      "execution_count": null,
      "outputs": [
        {
          "output_type": "execute_result",
          "data": {
            "text/plain": [
              "True"
            ]
          },
          "metadata": {},
          "execution_count": 26
        }
      ]
    },
    {
      "cell_type": "code",
      "source": [
        "5 < 20 or 20 < 1"
      ],
      "metadata": {
        "id": "VaAF-9Ob_ai_",
        "colab": {
          "base_uri": "https://localhost:8080/"
        },
        "outputId": "9b7b02f1-37af-4626-aaf4-8ac9cd4a17c4"
      },
      "execution_count": null,
      "outputs": [
        {
          "output_type": "execute_result",
          "data": {
            "text/plain": [
              "True"
            ]
          },
          "metadata": {},
          "execution_count": 27
        }
      ]
    },
    {
      "cell_type": "code",
      "source": [
        "10 > 5 or 55 > \"5asdfasdfbgadfbgadebadedfebaen5\" or \"lwglwqrg\" or 0"
      ],
      "metadata": {
        "id": "bkLChzMd7Ud3",
        "colab": {
          "base_uri": "https://localhost:8080/"
        },
        "outputId": "7cc5b5de-8e6e-42f4-9194-6b335799b7f3"
      },
      "execution_count": null,
      "outputs": [
        {
          "output_type": "execute_result",
          "data": {
            "text/plain": [
              "True"
            ]
          },
          "metadata": {},
          "execution_count": 28
        }
      ]
    },
    {
      "cell_type": "markdown",
      "source": [
        "## Ejercicio: Operadores lógicos"
      ],
      "metadata": {
        "id": "mIYOgP_HAfFK"
      }
    },
    {
      "cell_type": "code",
      "source": [
        "expresiones = [\n",
        "not False,\n",
        "not 3 == 5,\n",
        "33/3 == 11 and 5 > 2,\n",
        "True or False,\n",
        "True*5 == 2.5*2 or 123 >= 23,\n",
        "12 > 7 and True < False\n",
        "]\n",
        "print(expresiones)"
      ],
      "metadata": {
        "id": "MwG-vslpDauf",
        "colab": {
          "base_uri": "https://localhost:8080/"
        },
        "outputId": "a266a607-04f5-403a-a02c-cefef8ad486b"
      },
      "execution_count": null,
      "outputs": [
        {
          "output_type": "stream",
          "name": "stdout",
          "text": [
            "[True, True, True, True, True, False]\n"
          ]
        }
      ]
    },
    {
      "cell_type": "markdown",
      "source": [
        "## Repaso General"
      ],
      "metadata": {
        "id": "MImBgZmpDkwP"
      }
    },
    {
      "cell_type": "code",
      "source": [
        "-32.366 <= -90"
      ],
      "metadata": {
        "id": "_DL3vrVSHHWI",
        "colab": {
          "base_uri": "https://localhost:8080/"
        },
        "outputId": "5422ddc6-5018-4128-a2e6-854c6365d85e"
      },
      "execution_count": null,
      "outputs": [
        {
          "output_type": "execute_result",
          "data": {
            "text/plain": [
              "False"
            ]
          },
          "metadata": {},
          "execution_count": 29
        }
      ]
    },
    {
      "cell_type": "code",
      "source": [
        "1 + 3 == 8 - 4"
      ],
      "metadata": {
        "id": "ckYzVdA3HBsZ",
        "colab": {
          "base_uri": "https://localhost:8080/"
        },
        "outputId": "71891838-e8c0-44bf-bf99-42b3e45ef446"
      },
      "execution_count": null,
      "outputs": [
        {
          "output_type": "execute_result",
          "data": {
            "text/plain": [
              "True"
            ]
          },
          "metadata": {},
          "execution_count": 30
        }
      ]
    },
    {
      "cell_type": "code",
      "source": [
        "\"Nasdgasdgasdgfasdg\" >= \"n\""
      ],
      "metadata": {
        "id": "T_IYUGfgeWyQ",
        "colab": {
          "base_uri": "https://localhost:8080/"
        },
        "outputId": "51e014d5-d4d1-4a15-b099-f43a3fe3ec0c"
      },
      "execution_count": null,
      "outputs": [
        {
          "output_type": "execute_result",
          "data": {
            "text/plain": [
              "False"
            ]
          },
          "metadata": {},
          "execution_count": 31
        }
      ]
    },
    {
      "cell_type": "code",
      "source": [
        "\"NIco\" == \"Nlco\""
      ],
      "metadata": {
        "id": "Lh_YDYg-HMCi",
        "colab": {
          "base_uri": "https://localhost:8080/"
        },
        "outputId": "dca661ab-bb6a-4c65-e7f2-7801afd2f07e"
      },
      "execution_count": null,
      "outputs": [
        {
          "output_type": "execute_result",
          "data": {
            "text/plain": [
              "False"
            ]
          },
          "metadata": {},
          "execution_count": 32
        }
      ]
    },
    {
      "cell_type": "code",
      "source": [
        "\"NIco\" >= \"Nlco\""
      ],
      "metadata": {
        "id": "VN064QzKHN9H",
        "colab": {
          "base_uri": "https://localhost:8080/"
        },
        "outputId": "1e8ca560-348c-4e9e-c8bc-8186a6b3d35a"
      },
      "execution_count": null,
      "outputs": [
        {
          "output_type": "execute_result",
          "data": {
            "text/plain": [
              "False"
            ]
          },
          "metadata": {},
          "execution_count": 33
        }
      ]
    },
    {
      "cell_type": "code",
      "source": [
        "\"Nico\" >= \"Melanie\""
      ],
      "metadata": {
        "id": "_zf8wa-GHPoW",
        "colab": {
          "base_uri": "https://localhost:8080/"
        },
        "outputId": "72c0e2b4-6d25-4057-b829-6679dff50902"
      },
      "execution_count": null,
      "outputs": [
        {
          "output_type": "execute_result",
          "data": {
            "text/plain": [
              "True"
            ]
          },
          "metadata": {},
          "execution_count": 34
        }
      ]
    },
    {
      "cell_type": "code",
      "source": [
        "nombre = \"Nico Perez\"\n",
        "nombre2 = \"Brenda\"\n",
        "nombre3 = \"Pepito\""
      ],
      "metadata": {
        "id": "Jyz763mLHTl4"
      },
      "execution_count": null,
      "outputs": []
    },
    {
      "cell_type": "code",
      "source": [
        "nombre[-2] != \"R\""
      ],
      "metadata": {
        "id": "bnnkOdqiHWoz",
        "colab": {
          "base_uri": "https://localhost:8080/"
        },
        "outputId": "354ed32e-c146-4512-b8b1-614010a0206b"
      },
      "execution_count": null,
      "outputs": [
        {
          "output_type": "execute_result",
          "data": {
            "text/plain": [
              "True"
            ]
          },
          "metadata": {},
          "execution_count": 36
        }
      ]
    },
    {
      "cell_type": "code",
      "source": [
        "nombre2 < nombre3"
      ],
      "metadata": {
        "id": "J3td1DiMHU3K",
        "colab": {
          "base_uri": "https://localhost:8080/"
        },
        "outputId": "4a93dbd6-6a6a-43d5-f49d-92d16f88104c"
      },
      "execution_count": null,
      "outputs": [
        {
          "output_type": "execute_result",
          "data": {
            "text/plain": [
              "True"
            ]
          },
          "metadata": {},
          "execution_count": 37
        }
      ]
    },
    {
      "cell_type": "code",
      "source": [
        "(len(nombre) < 15) == False"
      ],
      "metadata": {
        "id": "gDW9om2xHZbX",
        "colab": {
          "base_uri": "https://localhost:8080/"
        },
        "outputId": "aced3bcd-2fea-40e5-98d3-e5ab6c498b55"
      },
      "execution_count": null,
      "outputs": [
        {
          "output_type": "execute_result",
          "data": {
            "text/plain": [
              "False"
            ]
          },
          "metadata": {},
          "execution_count": 38
        }
      ]
    },
    {
      "cell_type": "markdown",
      "source": [
        "##AND OR NOT"
      ],
      "metadata": {
        "id": "tinrn9x5Hczq"
      }
    },
    {
      "cell_type": "code",
      "source": [
        "x = 2"
      ],
      "metadata": {
        "id": "-kZF6m_IspdC"
      },
      "execution_count": null,
      "outputs": []
    },
    {
      "cell_type": "code",
      "source": [
        "print(x > 3 and x < 10)"
      ],
      "metadata": {
        "id": "AfpeI6mrHgZ9",
        "colab": {
          "base_uri": "https://localhost:8080/"
        },
        "outputId": "561b1cca-053a-476c-c74f-1ca2d1b514a5"
      },
      "execution_count": null,
      "outputs": [
        {
          "output_type": "stream",
          "name": "stdout",
          "text": [
            "False\n"
          ]
        }
      ]
    },
    {
      "cell_type": "code",
      "source": [
        "print(x > 3 or x < 4)"
      ],
      "metadata": {
        "id": "ocaoH780HhsH",
        "colab": {
          "base_uri": "https://localhost:8080/"
        },
        "outputId": "c7772150-7b22-4b05-df75-a53a59339959"
      },
      "execution_count": null,
      "outputs": [
        {
          "output_type": "stream",
          "name": "stdout",
          "text": [
            "True\n"
          ]
        }
      ]
    },
    {
      "cell_type": "code",
      "source": [
        "print(not(x > 3 and x < 10))"
      ],
      "metadata": {
        "id": "14NE9f19HjH3",
        "colab": {
          "base_uri": "https://localhost:8080/"
        },
        "outputId": "9b7a4898-6b4e-4d2b-f30f-7eb1516b717f"
      },
      "execution_count": null,
      "outputs": [
        {
          "output_type": "stream",
          "name": "stdout",
          "text": [
            "True\n"
          ]
        }
      ]
    },
    {
      "cell_type": "code",
      "source": [
        "x = [\"manzas\", \"peras\"]\n",
        "y = [\"manzanas\", \"banana\"]\n",
        "z = x\n",
        "print(x)\n",
        "print(y)\n",
        "print(z)"
      ],
      "metadata": {
        "id": "kkYqA8oYHlNC",
        "colab": {
          "base_uri": "https://localhost:8080/"
        },
        "outputId": "d49dbdd4-3502-4b1b-9f7c-e71295f5f55e"
      },
      "execution_count": null,
      "outputs": [
        {
          "output_type": "stream",
          "name": "stdout",
          "text": [
            "['manzas', 'peras']\n",
            "['manzanas', 'banana']\n",
            "['manzas', 'peras']\n"
          ]
        }
      ]
    },
    {
      "cell_type": "code",
      "source": [
        "print(x is z)\n",
        "print(x == z)\n",
        "print(x is y)\n",
        "print(x == y)"
      ],
      "metadata": {
        "id": "LLYK1LncHyGC",
        "colab": {
          "base_uri": "https://localhost:8080/"
        },
        "outputId": "b62c4056-0f86-4509-a992-d0688c619448"
      },
      "execution_count": null,
      "outputs": [
        {
          "output_type": "stream",
          "name": "stdout",
          "text": [
            "True\n",
            "True\n",
            "False\n",
            "False\n"
          ]
        }
      ]
    },
    {
      "cell_type": "code",
      "source": [
        "x[0] = \"A\"\n",
        "print(z)"
      ],
      "metadata": {
        "id": "9WevamFHITN1",
        "colab": {
          "base_uri": "https://localhost:8080/"
        },
        "outputId": "11f0eadc-96e1-4330-d905-1a9f05e2ab4d"
      },
      "execution_count": null,
      "outputs": [
        {
          "output_type": "stream",
          "name": "stdout",
          "text": [
            "['A', 'peras']\n"
          ]
        }
      ]
    },
    {
      "cell_type": "code",
      "source": [
        "print(id(x))\n",
        "print(id(z))\n",
        "print(id(y))"
      ],
      "metadata": {
        "id": "-uX23Z-Qurra",
        "colab": {
          "base_uri": "https://localhost:8080/"
        },
        "outputId": "1edc5e70-6726-44ce-db75-83c25bf2427f"
      },
      "execution_count": null,
      "outputs": [
        {
          "output_type": "stream",
          "name": "stdout",
          "text": [
            "132116736017280\n",
            "132116736017280\n",
            "132116712006528\n"
          ]
        }
      ]
    },
    {
      "cell_type": "code",
      "source": [
        "# Is not\n",
        "print(x is not z)\n",
        "print(x is not y)\n",
        "print(x != z)\n",
        "print(x != y)"
      ],
      "metadata": {
        "id": "Gk0dTCr5IvTE",
        "colab": {
          "base_uri": "https://localhost:8080/"
        },
        "outputId": "69d99403-91f7-41d9-f72d-d359641eb23f"
      },
      "execution_count": null,
      "outputs": [
        {
          "output_type": "stream",
          "name": "stdout",
          "text": [
            "False\n",
            "True\n",
            "False\n",
            "True\n"
          ]
        }
      ]
    },
    {
      "cell_type": "code",
      "source": [
        "x = [\"manzana\", \"banana\"]\n",
        "\n",
        "print(\"pera\" not in x)"
      ],
      "metadata": {
        "id": "lmPrTQ6JI28e"
      },
      "execution_count": null,
      "outputs": []
    },
    {
      "cell_type": "markdown",
      "source": [
        "##Listas y operaciones lógicas"
      ],
      "metadata": {
        "id": "xQrz8dtoI924"
      }
    },
    {
      "cell_type": "code",
      "source": [
        "listaNueva = [3+1-11 , 20/6, 11-8]\n",
        "listaNueva"
      ],
      "metadata": {
        "id": "AtQZDSLuJQ4v",
        "colab": {
          "base_uri": "https://localhost:8080/"
        },
        "outputId": "d28ef4af-919b-47a3-b8d5-5ec18300e8f5"
      },
      "execution_count": null,
      "outputs": [
        {
          "output_type": "execute_result",
          "data": {
            "text/plain": [
              "[-7, 3.3333333333333335, 3]"
            ]
          },
          "metadata": {},
          "execution_count": 49
        }
      ]
    },
    {
      "cell_type": "code",
      "source": [
        "expresiones = [False == True, 10 >= 2*4, 33/3 == 11, True > False, True*5 == 2.5*2]\n",
        "variable1 = expresiones[0]\n",
        "variable1"
      ],
      "metadata": {
        "id": "ynIC124uJTap",
        "colab": {
          "base_uri": "https://localhost:8080/"
        },
        "outputId": "d59d2e35-1a5a-4bcd-d0c3-c738b488b59a"
      },
      "execution_count": null,
      "outputs": [
        {
          "output_type": "execute_result",
          "data": {
            "text/plain": [
              "False"
            ]
          },
          "metadata": {},
          "execution_count": 50
        }
      ]
    },
    {
      "cell_type": "markdown",
      "source": [],
      "metadata": {
        "id": "KwYQQIweJcp6"
      }
    },
    {
      "cell_type": "code",
      "source": [
        "edadNadia = 27\n",
        "edadNico = 32\n",
        "edadLuis = 20\n",
        "variable = edadNadia >= 18 and edadNico >= 18 and edadLuis >= 18"
      ],
      "metadata": {
        "id": "JJVtaXZQJVMv"
      },
      "execution_count": null,
      "outputs": []
    },
    {
      "cell_type": "code",
      "source": [
        "variable"
      ],
      "metadata": {
        "id": "CBxxBDe2Jh9H",
        "colab": {
          "base_uri": "https://localhost:8080/"
        },
        "outputId": "ade514e7-1bf2-4f46-9b61-ddd30a03afe0"
      },
      "execution_count": null,
      "outputs": [
        {
          "output_type": "execute_result",
          "data": {
            "text/plain": [
              "True"
            ]
          },
          "metadata": {},
          "execution_count": 55
        }
      ]
    },
    {
      "cell_type": "code",
      "source": [
        "edadNadia >= 18 or edadLuis >= 18"
      ],
      "metadata": {
        "id": "_XSezmQwJjgL",
        "colab": {
          "base_uri": "https://localhost:8080/"
        },
        "outputId": "d30022e9-0ada-4588-8ea6-45daf26c4454"
      },
      "execution_count": null,
      "outputs": [
        {
          "output_type": "execute_result",
          "data": {
            "text/plain": [
              "True"
            ]
          },
          "metadata": {},
          "execution_count": 56
        }
      ]
    },
    {
      "cell_type": "code",
      "source": [
        "not (edadNico >= 18)"
      ],
      "metadata": {
        "id": "7h96e4pTJmA3",
        "colab": {
          "base_uri": "https://localhost:8080/"
        },
        "outputId": "1939b47e-3ae3-4a26-9354-1cab636e7420"
      },
      "execution_count": null,
      "outputs": [
        {
          "output_type": "execute_result",
          "data": {
            "text/plain": [
              "False"
            ]
          },
          "metadata": {},
          "execution_count": 59
        }
      ]
    },
    {
      "cell_type": "code",
      "source": [
        "a = 15\n",
        "b = 12\n",
        "a ** b / 3**a / a * b >= 15 and not (a%b**2) != 0"
      ],
      "metadata": {
        "id": "M1Giq72TwZSS",
        "colab": {
          "base_uri": "https://localhost:8080/"
        },
        "outputId": "78fadc5f-26c1-4699-cd0a-4ef3ac5bb70a"
      },
      "execution_count": null,
      "outputs": [
        {
          "output_type": "execute_result",
          "data": {
            "text/plain": [
              "False"
            ]
          },
          "metadata": {},
          "execution_count": 60
        }
      ]
    },
    {
      "cell_type": "code",
      "source": [
        "a%b**2"
      ],
      "metadata": {
        "id": "JxywfZjEwu7k"
      },
      "execution_count": null,
      "outputs": []
    },
    {
      "cell_type": "markdown",
      "source": [
        "## Operadores de asignación"
      ],
      "metadata": {
        "id": "Ah9DmGZKfpiA"
      }
    },
    {
      "cell_type": "code",
      "source": [
        "edadDeFrancisco = 88   #Asignación\n",
        "edadDeFrancisco += 9   # edadDeFrancisco = edadDeFrancisco + 9\n",
        "edadDeFrancisco"
      ],
      "metadata": {
        "id": "uxXN5TwKJooN",
        "colab": {
          "base_uri": "https://localhost:8080/"
        },
        "outputId": "fc38dc6f-4931-4a52-dbfd-d5fcac1dcf42"
      },
      "execution_count": null,
      "outputs": [
        {
          "output_type": "execute_result",
          "data": {
            "text/plain": [
              "97"
            ]
          },
          "metadata": {},
          "execution_count": 61
        }
      ]
    },
    {
      "cell_type": "code",
      "source": [
        "edadDeFrancisco -= 5\n",
        "edadDeFrancisco"
      ],
      "metadata": {
        "id": "Wf7mnJKDJp79"
      },
      "execution_count": null,
      "outputs": []
    },
    {
      "cell_type": "code",
      "source": [
        "edadDeFrancisco -= 57\n",
        "edadDeFrancisco"
      ],
      "metadata": {
        "id": "H8MlETP3JrVM"
      },
      "execution_count": null,
      "outputs": []
    },
    {
      "cell_type": "code",
      "source": [
        "edadLuis = 17\n",
        "edadLuis = edadLuis + 3         # edadLuis += 3\n",
        "edadLuis"
      ],
      "metadata": {
        "id": "qyIPgMSzJtYY"
      },
      "execution_count": null,
      "outputs": []
    },
    {
      "cell_type": "code",
      "source": [
        "a = 1\n",
        "a += 1      # a = a + 1\n",
        "print(a)"
      ],
      "metadata": {
        "id": "GAphmxS1oHEt"
      },
      "execution_count": null,
      "outputs": []
    },
    {
      "cell_type": "code",
      "source": [
        "a = 10\n",
        "a =+ 100\n",
        "print(a)"
      ],
      "metadata": {
        "id": "IzVeYTotoS-k",
        "colab": {
          "base_uri": "https://localhost:8080/"
        },
        "outputId": "93db6b69-326a-4591-b6bb-3f8fb1ee9c0e"
      },
      "execution_count": null,
      "outputs": [
        {
          "output_type": "stream",
          "name": "stdout",
          "text": [
            "100\n"
          ]
        }
      ]
    },
    {
      "cell_type": "markdown",
      "source": [
        "***NOTA:***<br>\n",
        "Si tenemos un **not** y una expresión y no hay paréntesis, primero se ejecuta la expresión y luego el **not**.<br>\n",
        "En los siguientes ejemplos podemos ver cómo cambiando de lugar los paréntesis se evidencia lo indicado."
      ],
      "metadata": {
        "id": "5Df6vuRxiQ6k"
      }
    },
    {
      "cell_type": "code",
      "source": [
        "not 5 >= -6"
      ],
      "metadata": {
        "id": "NweesQIgiLVB",
        "colab": {
          "base_uri": "https://localhost:8080/"
        },
        "outputId": "e1b510c3-c519-4dcb-adf0-8cf04d239ff4"
      },
      "execution_count": null,
      "outputs": [
        {
          "output_type": "execute_result",
          "data": {
            "text/plain": [
              "False"
            ]
          },
          "metadata": {},
          "execution_count": 63
        }
      ]
    },
    {
      "cell_type": "code",
      "source": [
        "not (5 >= -6)"
      ],
      "metadata": {
        "id": "dMF_zZ-Nhxop",
        "colab": {
          "base_uri": "https://localhost:8080/"
        },
        "outputId": "c9413648-4c98-4cc5-a3cc-6a7511335ab1"
      },
      "execution_count": null,
      "outputs": [
        {
          "output_type": "execute_result",
          "data": {
            "text/plain": [
              "False"
            ]
          },
          "metadata": {},
          "execution_count": 64
        }
      ]
    },
    {
      "cell_type": "code",
      "source": [
        "(not 5) >= -6"
      ],
      "metadata": {
        "id": "enMgEMephyc2",
        "colab": {
          "base_uri": "https://localhost:8080/"
        },
        "outputId": "e3649647-efad-4bd1-9d0d-422edaf91a9a"
      },
      "execution_count": null,
      "outputs": [
        {
          "output_type": "execute_result",
          "data": {
            "text/plain": [
              "True"
            ]
          },
          "metadata": {},
          "execution_count": 65
        }
      ]
    }
  ]
}